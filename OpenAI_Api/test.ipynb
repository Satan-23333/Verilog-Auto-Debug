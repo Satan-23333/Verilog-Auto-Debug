{
 "cells": [
  {
   "cell_type": "code",
   "execution_count": 28,
   "metadata": {},
   "outputs": [],
   "source": [
    "# 初始化配置\n",
    "from openai import OpenAI\n",
    "import os\n",
    "import json\n",
    "from datetime import datetime\n",
    "\n",
    "\n",
    "class GPT:\n",
    "    proxy_url = \"https://gpt-api.satan2333.icu/v1\"\n",
    "\n",
    "    # 获取当前时间并格式化为字符串\n",
    "    init_time = datetime.now().strftime(\"%Y-%m-%d_%H-%M\")\n",
    "    filename = f\"GPT_Response_{init_time}.json\"\n",
    "\n",
    "    def __init__(self) -> None:\n",
    "        with open(\"api.ini\", \"r\") as api:\n",
    "            OpenAI_API = api.read()\n",
    "        self.client = OpenAI(api_key=OpenAI_API, base_url=self.proxy_url)\n",
    "\n",
    "        with open(self.filename, \"w\") as file:\n",
    "            json.dump({}, file)\n",
    "        print(f\"成功保存到JSON文件 '{self.filename}'\")\n",
    "\n",
    "    def save_json(self,data):\n",
    "        # 读取原始JSON文件内容\n",
    "        with open(self.filename, 'r') as file:\n",
    "            data = json.load(file)\n",
    "\n",
    "        # 将新数据合并或更新到原始数据中\n",
    "        current_time = datetime.now().strftime(\"%Y-%m-%d_%H-%M\")\n",
    "        data[current_time] = {data}\n",
    "        # 将更新后的数据写回文件\n",
    "        with open(self.filename, 'w') as file:\n",
    "            json.dump(data, file, indent=4)\n",
    "        return\n",
    "    \n",
    "    def ASK_GPT(self, message):\n",
    "        completion = self.client.chat.completions.create(\n",
    "            model=\"gpt-3.5-turbo\", messages=message\n",
    "        )\n",
    "        self.save_json(completion.choices[0].message)\n",
    "        return completion.choices[0].message\n",
    "\n",
    "    def Get_GPT_Response():\n",
    "\n",
    "        return"
   ]
  },
  {
   "cell_type": "code",
   "execution_count": 29,
   "metadata": {},
   "outputs": [
    {
     "name": "stdout",
     "output_type": "stream",
     "text": [
      "成功保存到JSON文件 'GPT_Response_2024-03-01_16-37.json'\n"
     ]
    },
    {
     "name": "stdout",
     "output_type": "stream",
     "text": [
      "Circular reference detected\n"
     ]
    }
   ],
   "source": [
    "if __name__ == \"__main__\":\n",
    "    message = []\n",
    "    gpt_msg = []\n",
    "    GPT = GPT()\n",
    "    try:\n",
    "        while True:\n",
    "            user_input = input(\"我: \").strip()\n",
    "            if user_input == \"exit\" or user_input == \"退出\":\n",
    "                break\n",
    "            content = {\"role\": \"user\", \"content\": \"\"}\n",
    "            content[\"content\"] = user_input\n",
    "            message.append(content)\n",
    "            gpt_res = GPT.ASK_GPT(message)\n",
    "            # print(gpt_res)\n",
    "            gpt_msg = {\"content\": \"\", \"role\": \"assistant\"}\n",
    "            gpt_msg[\"role\"] = gpt_res.role\n",
    "            gpt_msg[\"content\"] = gpt_res.content\n",
    "            print(\"\" + gpt_res.content)\n",
    "            message.append(gpt_msg)\n",
    "    except Exception as e:\n",
    "        print(e)"
   ]
  },
  {
   "cell_type": "code",
   "execution_count": 9,
   "metadata": {},
   "outputs": [],
   "source": [
    "with open(\"api.ini\", \"r\") as api:\n",
    "    OpenAI_API = api.read()\n",
    "proxy_url = \"https://gpt-api.satan2333.icu/v1\"\n",
    "client = OpenAI(api_key=OpenAI_API, base_url=proxy_url)\n",
    "\n",
    "assistant = client.beta.assistants.create(\n",
    "    name=\"Math Tutor\",\n",
    "    instructions=\"You are a personal math tutor. Write and run code to answer math questions.\",\n",
    "    tools=[{\"type\": \"code_interpreter\"}],\n",
    "    model=\"gpt-4-turbo-preview\"\n",
    ")"
   ]
  }
 ],
 "metadata": {
  "kernelspec": {
   "display_name": "Python 3",
   "language": "python",
   "name": "python3"
  },
  "language_info": {
   "codemirror_mode": {
    "name": "ipython",
    "version": 3
   },
   "file_extension": ".py",
   "mimetype": "text/x-python",
   "name": "python",
   "nbconvert_exporter": "python",
   "pygments_lexer": "ipython3",
   "version": "3.11.1"
  }
 },
 "nbformat": 4,
 "nbformat_minor": 2
}
